{
 "cells": [
  {
   "cell_type": "code",
   "execution_count": null,
   "id": "3258c5f0-7210-422b-a65b-1d85e130a698",
   "metadata": {},
   "outputs": [],
   "source": []
  },
  {
   "cell_type": "code",
   "execution_count": 1,
   "id": "bab032ed-7059-4d4a-b5cd-55fab77f6550",
   "metadata": {},
   "outputs": [
    {
     "name": "stdin",
     "output_type": "stream",
     "text": [
      "Masukkan nama mahasiswa : harun\n",
      "Masukkan NIM: 1702020\n",
      "Masukkan Nilai Ujian (0-100): 80\n"
     ]
    },
    {
     "name": "stdout",
     "output_type": "stream",
     "text": [
      "Nama : harun (type: <class 'str'> )\n",
      "NIM : 1702020 (type: <class 'int'> )\n",
      "Nilai : 80 (type: <class 'int'> )\n",
      "Hasil Evaluasi :\n",
      "Mahasiswa : harun (NIM: 1702020 )\n",
      "Nilai Ujian : 80\n",
      "Kategori Nilai : B (Baik)\n"
     ]
    }
   ],
   "source": [
    "Nama = str(input(\"Masukkan nama mahasiswa :\"))\n",
    "NIM = int(input(\"Masukkan NIM:\"))\n",
    "Nilai = int(input(\"Masukkan Nilai Ujian (0-100):\"))\n",
    "\n",
    "print(f\"Nama :\", Nama, \"(type:\",type(Nama),\")\")\n",
    "print(f\"NIM :\", NIM, \"(type:\",type(NIM),\")\")\n",
    "print(f\"Nilai :\", Nilai, \"(type:\",type(Nilai),\")\")\n",
    "\n",
    "print(f\"Hasil Evaluasi :\")\n",
    "print(f\"Mahasiswa :\", Nama, f\"(NIM:\",NIM,\")\")\n",
    "print(f\"Nilai Ujian :\", Nilai)\n",
    "\n",
    "if Nilai >= 85  :\n",
    "    print(\"Kategori Nilai : A (Sangat Baik)\")\n",
    "elif Nilai >= 74 :\n",
    "    print(\"Kategori Nilai : B (Baik)\")\n",
    "elif Nilai >= 54 :\n",
    "    print(\"Kategori Nilai : C (Cukup)\")\n",
    "elif Nilai >= 40 :\n",
    "    print(\"Kategori Nilai : D (Kurang)\")\n",
    "else :\n",
    "    print(\"Kategori Nilai : E (Sangat Kurang)\")\n",
    "    "
   ]
  },
  {
   "cell_type": "code",
   "execution_count": null,
   "id": "ad678145-b360-48b9-9f28-f612f2521afa",
   "metadata": {},
   "outputs": [],
   "source": []
  }
 ],
 "metadata": {
  "kernelspec": {
   "display_name": "Python 3 (ipykernel)",
   "language": "python",
   "name": "python3"
  },
  "language_info": {
   "codemirror_mode": {
    "name": "ipython",
    "version": 3
   },
   "file_extension": ".py",
   "mimetype": "text/x-python",
   "name": "python",
   "nbconvert_exporter": "python",
   "pygments_lexer": "ipython3",
   "version": "3.13.3"
  }
 },
 "nbformat": 4,
 "nbformat_minor": 5
}
